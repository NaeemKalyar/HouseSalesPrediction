{
 "cells": [
  {
   "cell_type": "markdown",
   "id": "ea9a45cd",
   "metadata": {},
   "source": [
    "### Get input from user "
   ]
  },
  {
   "cell_type": "code",
   "execution_count": null,
   "id": "531ffcb7",
   "metadata": {},
   "outputs": [],
   "source": [
    "# This code is used to take input from user run this block of code and enter your values\n",
    "import pandas as pd\n",
    "\n",
    "def append_data_to_dataframe(df):\n",
    "    # Get user input for each column\n",
    "    data = {}\n",
    "    for column in df.columns:\n",
    "        value = input(f\"Enter value for '{column}': \")\n",
    "        data[column] = value\n",
    "    \n",
    "    # Append the data to the dataframe\n",
    "    df = df.append(data, ignore_index=True)\n",
    "    \n",
    "    return df\n",
    "\n",
    "# Define the column names and data types\n",
    "columns = {\n",
    "    'type': object,\n",
    "    'amenities': object,\n",
    "    'postcode': int,\n",
    "    'Area': object,\n",
    "    \n",
    "    'Construction year range': object,\n",
    "    'living area': float,\n",
    "    'surface of ammenity': float,\n",
    "    'surface of garden for houses': float\n",
    "}\n",
    "\n",
    "# Create an empty dataframe\n",
    "df = pd.DataFrame(columns=columns.keys()).astype(columns)\n",
    "\n",
    "# Prompt user for input and append data to the dataframe\n",
    "df = append_data_to_dataframe(df)\n",
    "\n",
    "# Display the dataframe\n",
    "print(df)\n"
   ]
  },
  {
   "cell_type": "code",
   "execution_count": 1,
   "id": "2dd2d8fd",
   "metadata": {
    "scrolled": true
   },
   "outputs": [
    {
     "name": "stdout",
     "output_type": "stream",
     "text": [
      "Enter value for 'type': Habitation un logement\n",
      "Enter value for 'postcode': 1218\n",
      "Enter value for 'Area': Le Grand-Saconnex\n",
      "Enter value for 'Construction year range': Période de 1946 à 1960\n",
      "Enter value for 'living area': 152\n",
      "Enter value for 'surface of ammenity': 0\n",
      "Enter value for 'surface of garden for houses': 640\n",
      "                     type postcode               Area Construction year range  \\\n",
      "0  Habitation un logement     1218  Le Grand-Saconnex  Période de 1946 à 1960   \n",
      "\n",
      "  living area surface of ammenity surface of garden for houses  \n",
      "0         152                   0                          640  \n"
     ]
    },
    {
     "name": "stderr",
     "output_type": "stream",
     "text": [
      "/tmp/ipykernel_14870/1394627595.py:12: FutureWarning: The frame.append method is deprecated and will be removed from pandas in a future version. Use pandas.concat instead.\n",
      "  df = df.append(data, ignore_index=True)\n"
     ]
    }
   ],
   "source": [
    "# This code is used to take input from user run this block of code and enter your values\n",
    "import pandas as pd\n",
    "\n",
    "def append_data_to_dataframe(df):\n",
    "    # Get user input for each column\n",
    "    data = {}\n",
    "    for column in df.columns:\n",
    "        value = input(f\"Enter value for '{column}': \")\n",
    "        data[column] = value\n",
    "    \n",
    "    # Append the data to the dataframe\n",
    "    df = df.append(data, ignore_index=True)\n",
    "    \n",
    "    return df\n",
    "\n",
    "# Define the column names and data types\n",
    "columns = {\n",
    "    'type': object,\n",
    "    \n",
    "    'postcode': int,\n",
    "    'Area': object,\n",
    "    \n",
    "    'Construction year range': object,\n",
    "    'living area': float,\n",
    "    'surface of ammenity': float,\n",
    "    'surface of garden for houses': float\n",
    "}\n",
    "\n",
    "# Create an empty dataframe\n",
    "df = pd.DataFrame(columns=columns.keys()).astype(columns)\n",
    "\n",
    "# Prompt user for input and append data to the dataframe\n",
    "df = append_data_to_dataframe(df)\n",
    "\n",
    "# Display the dataframe\n",
    "print(df)\n"
   ]
  },
  {
   "cell_type": "markdown",
   "id": "61c89751",
   "metadata": {},
   "source": [
    "### Transform data for prediction"
   ]
  },
  {
   "cell_type": "code",
   "execution_count": 2,
   "id": "3a1b171f",
   "metadata": {},
   "outputs": [],
   "source": [
    "# this code is used to transformed your data according to the model \n",
    "import joblib\n",
    "\n",
    "# Load the saved transformer\n",
    "transformer = joblib.load(\"my_transformer_0.pkl\")\n",
    "# Assuming you have your input data stored in a DataFrame called `input_data`\n",
    "# Apply the loaded transformer to transform the input data\n",
    "input_transformed = transformer.transform(df)\n"
   ]
  },
  {
   "cell_type": "markdown",
   "id": "d77c4ce2",
   "metadata": {},
   "source": [
    "### Get prediction\n"
   ]
  },
  {
   "cell_type": "code",
   "execution_count": 3,
   "id": "c42dd8cb",
   "metadata": {},
   "outputs": [],
   "source": [
    "model = joblib.load(\"house_price_model2.pkl\")"
   ]
  },
  {
   "cell_type": "code",
   "execution_count": 4,
   "id": "09f7501b",
   "metadata": {},
   "outputs": [
    {
     "name": "stdout",
     "output_type": "stream",
     "text": [
      "The price of house is  [1708813.]\n"
     ]
    }
   ],
   "source": [
    "# Make predictions\n",
    "predictions = model.predict(input_transformed)\n",
    "print('The price of house is ',  predictions)"
   ]
  },
  {
   "cell_type": "code",
   "execution_count": null,
   "id": "6fac890a",
   "metadata": {},
   "outputs": [],
   "source": []
  },
  {
   "cell_type": "code",
   "execution_count": null,
   "id": "f1ebe87c",
   "metadata": {},
   "outputs": [],
   "source": []
  }
 ],
 "metadata": {
  "kernelspec": {
   "display_name": "Python 3 (ipykernel)",
   "language": "python",
   "name": "python3"
  },
  "language_info": {
   "codemirror_mode": {
    "name": "ipython",
    "version": 3
   },
   "file_extension": ".py",
   "mimetype": "text/x-python",
   "name": "python",
   "nbconvert_exporter": "python",
   "pygments_lexer": "ipython3",
   "version": "3.9.12"
  }
 },
 "nbformat": 4,
 "nbformat_minor": 5
}
