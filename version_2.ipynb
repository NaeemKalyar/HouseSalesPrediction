{
 "cells": [
  {
   "cell_type": "code",
   "execution_count": 1,
   "id": "8222e308",
   "metadata": {},
   "outputs": [],
   "source": [
    "import numpy as np\n",
    "import pandas as pd\n",
    "from sklearn.svm import SVR\n",
    "from sklearn.compose import ColumnTransformer\n",
    "from sklearn.metrics import mean_squared_error\n",
    "from sklearn.ensemble import AdaBoostRegressor\n",
    "from sklearn.model_selection import GridSearchCV\n",
    "from sklearn.ensemble import RandomForestRegressor\n",
    "from sklearn.model_selection import train_test_split\n",
    "from sklearn.preprocessing import OneHotEncoder, OrdinalEncoder"
   ]
  },
  {
   "cell_type": "code",
   "execution_count": 2,
   "id": "726c92b0",
   "metadata": {},
   "outputs": [],
   "source": [
    "excel_file = pd.read_excel('2nd and 3rd batch.xlsx',sheet_name=None)"
   ]
  },
  {
   "cell_type": "code",
   "execution_count": 3,
   "id": "f782bcdd",
   "metadata": {},
   "outputs": [],
   "source": [
    "sheet_names = excel_file.keys()"
   ]
  },
  {
   "cell_type": "code",
   "execution_count": 4,
   "id": "a87d65e3",
   "metadata": {},
   "outputs": [
    {
     "name": "stdout",
     "output_type": "stream",
     "text": [
      "1st batch\n",
      "2nd batch\n",
      "3rd batch\n"
     ]
    }
   ],
   "source": [
    "for sheet_name in sheet_names:\n",
    "    print(sheet_name)"
   ]
  },
  {
   "cell_type": "code",
   "execution_count": 5,
   "id": "ef062178",
   "metadata": {},
   "outputs": [],
   "source": [
    "sheets_dict = excel_file"
   ]
  },
  {
   "cell_type": "code",
   "execution_count": 7,
   "id": "eeed6873",
   "metadata": {},
   "outputs": [],
   "source": [
    "df_sheet1 = sheets_dict['1st batch']\n",
    "df_sheet2 = sheets_dict['2nd batch']\n",
    "df_sheet3 = sheets_dict['3rd batch']"
   ]
  },
  {
   "cell_type": "code",
   "execution_count": 8,
   "id": "34a10e9a",
   "metadata": {},
   "outputs": [],
   "source": [
    "data=pd.concat([df_sheet2, df_sheet3], ignore_index=True)"
   ]
  },
  {
   "cell_type": "code",
   "execution_count": 10,
   "id": "1471359c",
   "metadata": {},
   "outputs": [
    {
     "name": "stdout",
     "output_type": "stream",
     "text": [
      "<class 'pandas.core.frame.DataFrame'>\n",
      "RangeIndex: 13969 entries, 0 to 13968\n",
      "Data columns (total 12 columns):\n",
      " #   Column                        Non-Null Count  Dtype  \n",
      "---  ------                        --------------  -----  \n",
      " 0   price                         13969 non-null  int64  \n",
      " 1   date                          13969 non-null  object \n",
      " 2   type                          13969 non-null  object \n",
      " 3   amenities                     8160 non-null   object \n",
      " 4   postcode                      13969 non-null  int64  \n",
      " 5   Area                          13969 non-null  object \n",
      " 6   address                       13969 non-null  object \n",
      " 7   Construction year range       13049 non-null  object \n",
      " 8   living area                   12974 non-null  float64\n",
      " 9   surface of ammenity           13969 non-null  float64\n",
      " 10  surface of garden for houses  13969 non-null  float64\n",
      " 11  prix/m2                       12922 non-null  float64\n",
      "dtypes: float64(4), int64(2), object(6)\n",
      "memory usage: 1.3+ MB\n"
     ]
    }
   ],
   "source": [
    "data.info()"
   ]
  },
  {
   "cell_type": "code",
   "execution_count": 77,
   "id": "a4c6aa9e",
   "metadata": {},
   "outputs": [
    {
     "data": {
      "text/plain": [
       "Appartment                      8090\n",
       "Habitation un logement          4310\n",
       "Hab plusieurs logements          553\n",
       "Bureaux                          187\n",
       "Hab. deux logements              186\n",
       "Garage                           128\n",
       "PPE                              115\n",
       "Local commercial                  85\n",
       "Box                               80\n",
       "Local                             65\n",
       "Cave                              63\n",
       "Dépot                             49\n",
       "Plusieurs types d'habitation      24\n",
       "Atelier                           22\n",
       "Chambre                           12\n",
       "Name: type, dtype: int64"
      ]
     },
     "execution_count": 77,
     "metadata": {},
     "output_type": "execute_result"
    }
   ],
   "source": [
    "data['type'].value_counts()"
   ]
  },
  {
   "cell_type": "code",
   "execution_count": 78,
   "id": "7ec61af4",
   "metadata": {},
   "outputs": [
    {
     "data": {
      "text/plain": [
       "price                              0\n",
       "date                               0\n",
       "type                               0\n",
       "amenities                       5809\n",
       "postcode                           0\n",
       "Area                               0\n",
       "address                            0\n",
       "Construction year range          920\n",
       "living area                      995\n",
       "surface of ammenity                0\n",
       "surface of garden for houses       0\n",
       "prix/m2                         1047\n",
       "dtype: int64"
      ]
     },
     "execution_count": 78,
     "metadata": {},
     "output_type": "execute_result"
    }
   ],
   "source": [
    "data.isnull().sum()"
   ]
  },
  {
   "cell_type": "code",
   "execution_count": 79,
   "id": "c908051a",
   "metadata": {},
   "outputs": [],
   "source": [
    "columns_to_drop = ['Construction year range', 'prix/m2','amenities']\n",
    "data= data.drop(columns_to_drop, axis=1)"
   ]
  },
  {
   "cell_type": "code",
   "execution_count": 80,
   "id": "3d3185a1",
   "metadata": {},
   "outputs": [
    {
     "data": {
      "text/plain": [
       "price                             0\n",
       "date                              0\n",
       "type                              0\n",
       "postcode                          0\n",
       "Area                              0\n",
       "address                           0\n",
       "living area                     995\n",
       "surface of ammenity               0\n",
       "surface of garden for houses      0\n",
       "dtype: int64"
      ]
     },
     "execution_count": 80,
     "metadata": {},
     "output_type": "execute_result"
    }
   ],
   "source": [
    "data.isnull().sum()"
   ]
  },
  {
   "cell_type": "code",
   "execution_count": 11,
   "id": "9ac1c96b",
   "metadata": {},
   "outputs": [],
   "source": [
    "data=data.dropna()"
   ]
  },
  {
   "cell_type": "code",
   "execution_count": 82,
   "id": "82ab59eb",
   "metadata": {},
   "outputs": [
    {
     "name": "stdout",
     "output_type": "stream",
     "text": [
      "<class 'pandas.core.frame.DataFrame'>\n",
      "Int64Index: 12974 entries, 0 to 13968\n",
      "Data columns (total 9 columns):\n",
      " #   Column                        Non-Null Count  Dtype  \n",
      "---  ------                        --------------  -----  \n",
      " 0   price                         12974 non-null  int64  \n",
      " 1   date                          12974 non-null  object \n",
      " 2   type                          12974 non-null  object \n",
      " 3   postcode                      12974 non-null  int64  \n",
      " 4   Area                          12974 non-null  object \n",
      " 5   address                       12974 non-null  object \n",
      " 6   living area                   12974 non-null  float64\n",
      " 7   surface of ammenity           12974 non-null  float64\n",
      " 8   surface of garden for houses  12974 non-null  float64\n",
      "dtypes: float64(3), int64(2), object(4)\n",
      "memory usage: 1013.6+ KB\n"
     ]
    }
   ],
   "source": [
    "data.info()"
   ]
  },
  {
   "cell_type": "code",
   "execution_count": 83,
   "id": "39c3c500",
   "metadata": {},
   "outputs": [],
   "source": [
    "x = data.iloc[:, 1:]"
   ]
  },
  {
   "cell_type": "code",
   "execution_count": 84,
   "id": "f363f7e7",
   "metadata": {},
   "outputs": [],
   "source": [
    "y=data['price']"
   ]
  },
  {
   "cell_type": "code",
   "execution_count": 85,
   "id": "a0ccc77d",
   "metadata": {},
   "outputs": [],
   "source": [
    "x_train, x_test, y_train,y_test =train_test_split(x,y,test_size=0.20, random_state=42,shuffle=False)\n"
   ]
  },
  {
   "cell_type": "code",
   "execution_count": 100,
   "id": "1fbb7d33",
   "metadata": {},
   "outputs": [
    {
     "data": {
      "text/plain": [
       "(10379, 8)"
      ]
     },
     "execution_count": 100,
     "metadata": {},
     "output_type": "execute_result"
    }
   ],
   "source": [
    "x_train.shape"
   ]
  },
  {
   "cell_type": "code",
   "execution_count": 86,
   "id": "846eb913",
   "metadata": {},
   "outputs": [],
   "source": [
    "import pandas as pd\n",
    "from sklearn.compose import ColumnTransformer\n",
    "from sklearn.preprocessing import OrdinalEncoder, StandardScaler\n",
    "\n",
    "# Assuming you have your training data stored in a DataFrame called `train_data`\n",
    "categorical_cols =['type', 'Area']\n",
    "numerical_cols =['postcode', 'living area', 'surface of ammenity', 'surface of garden for houses']\n",
    "\n",
    "X_train_categorical = x_train[categorical_cols]\n",
    "X_train_numerical = x_train[numerical_cols]"
   ]
  },
  {
   "cell_type": "code",
   "execution_count": 87,
   "id": "107daaaa",
   "metadata": {},
   "outputs": [],
   "source": [
    "categorical_transformer = OneHotEncoder()\n",
    "numerical_transformer = StandardScaler()"
   ]
  },
  {
   "cell_type": "code",
   "execution_count": 88,
   "id": "5aa40215",
   "metadata": {},
   "outputs": [],
   "source": [
    "transformer = ColumnTransformer(\n",
    "    transformers=[\n",
    "        ('categorical', categorical_transformer, categorical_cols),\n",
    "        ('numerical', numerical_transformer, numerical_cols)\n",
    "    ]\n",
    ")\n"
   ]
  },
  {
   "cell_type": "code",
   "execution_count": 89,
   "id": "d296aef4",
   "metadata": {},
   "outputs": [],
   "source": [
    "X_train_transformed = transformer.fit_transform(X_train_categorical.join(X_train_numerical))"
   ]
  },
  {
   "cell_type": "code",
   "execution_count": 103,
   "id": "2cfb0ff1",
   "metadata": {},
   "outputs": [],
   "source": [
    "import pickle\n",
    "\n",
    "# Assuming you have your transformer object called `transformer`\n",
    "\n",
    "# Save the transformer using pickle\n",
    "with open(\"my_transformer_0.pkl\", \"wb\") as file:\n",
    "    pickle.dump(transformer, file)\n"
   ]
  },
  {
   "cell_type": "code",
   "execution_count": 91,
   "id": "df4b97b5",
   "metadata": {},
   "outputs": [],
   "source": [
    "X_test_categorical = x_test[categorical_cols]\n",
    "X_test_numerical = x_test[numerical_cols]\n"
   ]
  },
  {
   "cell_type": "code",
   "execution_count": 92,
   "id": "024caefe",
   "metadata": {},
   "outputs": [],
   "source": [
    "X_test_transformed = transformer.transform(X_test_categorical.join( X_test_numerical))"
   ]
  },
  {
   "cell_type": "code",
   "execution_count": 93,
   "id": "6835a43e",
   "metadata": {},
   "outputs": [],
   "source": [
    "X_test_transformed = transformer.transform(X_test_categorical.join( X_test_numerical))"
   ]
  },
  {
   "cell_type": "code",
   "execution_count": 94,
   "id": "f46f0c07",
   "metadata": {},
   "outputs": [],
   "source": [
    "model =RandomForestRegressor()"
   ]
  },
  {
   "cell_type": "code",
   "execution_count": 95,
   "id": "fbd9b54d",
   "metadata": {},
   "outputs": [
    {
     "data": {
      "text/plain": [
       "RandomForestRegressor()"
      ]
     },
     "execution_count": 95,
     "metadata": {},
     "output_type": "execute_result"
    }
   ],
   "source": [
    "model.fit(X_train_transformed,y_train)"
   ]
  },
  {
   "cell_type": "code",
   "execution_count": 96,
   "id": "d0456cd0",
   "metadata": {},
   "outputs": [],
   "source": [
    "pred=model.predict(X_test_transformed)"
   ]
  },
  {
   "cell_type": "code",
   "execution_count": 97,
   "id": "aade286a",
   "metadata": {},
   "outputs": [
    {
     "name": "stdout",
     "output_type": "stream",
     "text": [
      "Error percentage is  14.144020280014633\n"
     ]
    }
   ],
   "source": [
    "error_persentage=(sum(abs(pred-y_test))/len(y_test))/(sum(y_test)/len(y_test))*100\n",
    "print('Error percentage is ',error_persentage)"
   ]
  },
  {
   "cell_type": "code",
   "execution_count": 102,
   "id": "4dd16ca7",
   "metadata": {},
   "outputs": [],
   "source": [
    "import pickle\n",
    "\n",
    "# Assuming you have trained and obtained your model\n",
    "your_model = model # Your trained model\n",
    "\n",
    "# Save the model to a file\n",
    "filename = \"house_price_model2.pkl\"\n",
    "with open(filename, \"wb\") as file:\n",
    "    pickle.dump(your_model, file)"
   ]
  },
  {
   "cell_type": "code",
   "execution_count": 106,
   "id": "7e3ac621",
   "metadata": {},
   "outputs": [
    {
     "data": {
      "text/plain": [
       "11394     830000\n",
       "11395    2150000\n",
       "11396    1950000\n",
       "11397    1875000\n",
       "11398     770000\n",
       "11399    1258000\n",
       "11400     470000\n",
       "11401    4132862\n",
       "11402    6250000\n",
       "11403    2500000\n",
       "Name: price, dtype: int64"
      ]
     },
     "execution_count": 106,
     "metadata": {},
     "output_type": "execute_result"
    }
   ],
   "source": [
    "y_test[20:30]"
   ]
  },
  {
   "cell_type": "code",
   "execution_count": 107,
   "id": "54d3d208",
   "metadata": {},
   "outputs": [
    {
     "data": {
      "text/plain": [
       "array([ 778266.66666667, 2000833.34      , 2098858.26      ,\n",
       "       1706771.1       ,  792960.31642857, 1235546.67      ,\n",
       "        780805.        , 4625703.06      , 6813684.8       ,\n",
       "       2256150.        ])"
      ]
     },
     "execution_count": 107,
     "metadata": {},
     "output_type": "execute_result"
    }
   ],
   "source": [
    "pred[20:30]"
   ]
  },
  {
   "cell_type": "code",
   "execution_count": 57,
   "id": "90fa49c3",
   "metadata": {},
   "outputs": [
    {
     "name": "stdout",
     "output_type": "stream",
     "text": [
      "Garage\n",
      "price                             0\n",
      "date                              0\n",
      "type                              0\n",
      "amenities                       128\n",
      "postcode                          0\n",
      "Area                              0\n",
      "address                           0\n",
      "living area                       0\n",
      "surface of ammenity               0\n",
      "surface of garden for houses      0\n",
      "dtype: int64\n",
      "Chambre\n",
      "price                            0\n",
      "date                             0\n",
      "type                             0\n",
      "amenities                       12\n",
      "postcode                         0\n",
      "Area                             0\n",
      "address                          0\n",
      "living area                      0\n",
      "surface of ammenity              0\n",
      "surface of garden for houses     0\n",
      "dtype: int64\n",
      "Atelier\n",
      "price                            0\n",
      "date                             0\n",
      "type                             0\n",
      "amenities                       22\n",
      "postcode                         0\n",
      "Area                             0\n",
      "address                          0\n",
      "living area                      0\n",
      "surface of ammenity              0\n",
      "surface of garden for houses     0\n",
      "dtype: int64\n",
      "Dépot\n",
      "price                            0\n",
      "date                             0\n",
      "type                             0\n",
      "amenities                       49\n",
      "postcode                         0\n",
      "Area                             0\n",
      "address                          0\n",
      "living area                      4\n",
      "surface of ammenity              0\n",
      "surface of garden for houses     0\n",
      "dtype: int64\n",
      "Cave\n",
      "price                            0\n",
      "date                             0\n",
      "type                             0\n",
      "amenities                       63\n",
      "postcode                         0\n",
      "Area                             0\n",
      "address                          0\n",
      "living area                      1\n",
      "surface of ammenity              0\n",
      "surface of garden for houses     0\n",
      "dtype: int64\n",
      "Local\n",
      "price                            0\n",
      "date                             0\n",
      "type                             0\n",
      "amenities                       65\n",
      "postcode                         0\n",
      "Area                             0\n",
      "address                          0\n",
      "living area                     11\n",
      "surface of ammenity              0\n",
      "surface of garden for houses     0\n",
      "dtype: int64\n",
      "Box\n",
      "price                            0\n",
      "date                             0\n",
      "type                             0\n",
      "amenities                       80\n",
      "postcode                         0\n",
      "Area                             0\n",
      "address                          0\n",
      "living area                      2\n",
      "surface of ammenity              0\n",
      "surface of garden for houses     0\n",
      "dtype: int64\n"
     ]
    }
   ],
   "source": [
    "l=['Garage' ,'Chambre' ,'Atelier' , 'Dépot', 'Cave','Local' ,'Box']\n",
    "for i in l:\n",
    "    print(i)\n",
    "    print(data[data['type']==i].isnull().sum())"
   ]
  },
  {
   "cell_type": "code",
   "execution_count": 22,
   "id": "3626ea1e",
   "metadata": {},
   "outputs": [],
   "source": [
    "data=data.dropna()#Garage ,Chambre ,Atelier , Dépot, Cave,Local , Box"
   ]
  },
  {
   "cell_type": "code",
   "execution_count": 23,
   "id": "67acecf8",
   "metadata": {},
   "outputs": [
    {
     "data": {
      "text/plain": [
       "Appartment                      4936\n",
       "Habitation un logement          2012\n",
       "Hab plusieurs logements          319\n",
       "Hab. deux logements               89\n",
       "Bureaux                           63\n",
       "PPE                               27\n",
       "Plusieurs types d'habitation      14\n",
       "Local commercial                  12\n",
       "Name: type, dtype: int64"
      ]
     },
     "execution_count": 23,
     "metadata": {},
     "output_type": "execute_result"
    }
   ],
   "source": [
    "data['type'].value_counts()"
   ]
  },
  {
   "cell_type": "code",
   "execution_count": null,
   "id": "c68a3c7b",
   "metadata": {},
   "outputs": [],
   "source": []
  },
  {
   "cell_type": "code",
   "execution_count": null,
   "id": "3e69b068",
   "metadata": {},
   "outputs": [],
   "source": []
  }
 ],
 "metadata": {
  "kernelspec": {
   "display_name": "Python 3 (ipykernel)",
   "language": "python",
   "name": "python3"
  },
  "language_info": {
   "codemirror_mode": {
    "name": "ipython",
    "version": 3
   },
   "file_extension": ".py",
   "mimetype": "text/x-python",
   "name": "python",
   "nbconvert_exporter": "python",
   "pygments_lexer": "ipython3",
   "version": "3.9.12"
  }
 },
 "nbformat": 4,
 "nbformat_minor": 5
}
